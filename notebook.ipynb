{
 "cells": [
  {
   "cell_type": "markdown",
   "source": "# QOSF Mentorship Assessment (Task 2) - Simon Szalai",
   "metadata": {
    "tags": [],
    "is_collapsed": false,
    "cell_id": "00000-5a048934-419d-4bff-9103-7d44ac0f1a5f",
    "deepnote_cell_type": "text-cell-h1"
   }
  },
  {
   "cell_type": "code",
   "metadata": {
    "tags": [],
    "deepnote_to_be_reexecuted": false,
    "source_hash": "6f80c16f",
    "execution_start": 1631992327307,
    "execution_millis": 1423,
    "cell_id": "00002-92b4617e-0903-41ac-ba0f-5d9f9e361f33",
    "deepnote_cell_type": "code"
   },
   "source": "import math\nimport pennylane as qml\nfrom pennylane import numpy as np\nimport matplotlib.pyplot as plt",
   "execution_count": 1,
   "outputs": []
  },
  {
   "cell_type": "markdown",
   "source": "#### Define hyperparameters",
   "metadata": {
    "tags": [],
    "cell_id": "00002-81a0d183-961c-4e80-9acd-9dd23127d437",
    "deepnote_cell_type": "markdown"
   }
  },
  {
   "cell_type": "code",
   "metadata": {
    "tags": [],
    "cell_id": "00002-a9044038-c309-4333-8c7d-20c1b42a2e49",
    "deepnote_to_be_reexecuted": false,
    "source_hash": "98b07f8b",
    "execution_start": 1631992328736,
    "execution_millis": 18,
    "deepnote_cell_type": "code"
   },
   "source": "nr_qubits = 4\nnr_layers = 32\nlearning_rate = 0.03\ntraining_steps = 200",
   "execution_count": 2,
   "outputs": []
  },
  {
   "cell_type": "markdown",
   "source": "#### Define input and target states",
   "metadata": {
    "tags": [],
    "cell_id": "00004-1f4a7a80-ff52-45eb-9f7b-aa466ddbb4b3",
    "deepnote_cell_type": "markdown"
   }
  },
  {
   "cell_type": "code",
   "metadata": {
    "tags": [],
    "deepnote_to_be_reexecuted": false,
    "source_hash": "dc39bfed",
    "execution_start": 1631992328761,
    "execution_millis": 15,
    "cell_id": "00003-7c7162c2-c01a-41ad-9578-d06a1197e344",
    "deepnote_cell_type": "code"
   },
   "source": "# Define 4 random 4-qubit states in basis encoding\ninput_states = np.array([\n    [1, 0, 0, 0],\n    [0, 1, 0, 0],\n    [0, 0, 1, 0],\n    [0, 0, 0, 1]\n])\n\n# Define target states in basis encoding that should be returned when above states are input to the network\ntarget_states = np.array([\n    [0, 0, 1, 1],\n    [0, 1, 0, 1],\n    [1, 0, 1, 0],\n    [1, 1, 0, 0]\n])",
   "execution_count": 3,
   "outputs": []
  },
  {
   "cell_type": "markdown",
   "source": "#### Define helper functions for reusable assertions",
   "metadata": {
    "tags": [],
    "cell_id": "00006-0b13e527-6075-4b33-9e5e-43d21c6e1e90",
    "deepnote_cell_type": "markdown"
   }
  },
  {
   "cell_type": "code",
   "metadata": {
    "tags": [],
    "cell_id": "00007-fb5c1c88-7941-4664-940c-9ef3405a2222",
    "deepnote_to_be_reexecuted": false,
    "source_hash": "6b7323dc",
    "execution_start": 1631992328782,
    "execution_millis": 9,
    "deepnote_cell_type": "code"
   },
   "source": "def assert_basis_state(basis_state, nr_qubits):\n    assert basis_state.shape[0] == nr_qubits, f\"Length of input state ({basis_state.shape[0]}) must equal to number of qubits ({nr_qubits}).\"\n    for bit in basis_state: assert bit == 0 or bit == 1, f\"Input state {basis_state} is not valid. It can consist only of 0s and 1s.\"",
   "execution_count": 4,
   "outputs": []
  },
  {
   "cell_type": "code",
   "metadata": {
    "tags": [],
    "cell_id": "00008-25d4b5a8-c40e-4721-ae31-6f5d33f22922",
    "deepnote_to_be_reexecuted": false,
    "source_hash": "b64793bf",
    "execution_start": 1631992328795,
    "execution_millis": 9,
    "deepnote_cell_type": "code"
   },
   "source": "def assert_params(params, nr_qubits, nr_layers):\n    assert params.shape[0] == nr_layers, f\"Parameters first dimension ({params.shape[1]}) must equal to the number of layers ({nr_layers}).\"\n    assert params.shape[1] == nr_qubits, f\"Parameters second dimension ({params.shape[0]}) must equal to the number of qubits ({nr_qubits}).\"\n    assert params.shape[2] == 3, f\"Parameters third dimension ({params.shape[2]}) must equal to 3.\"",
   "execution_count": 5,
   "outputs": []
  },
  {
   "cell_type": "markdown",
   "source": "#### Define helper functions for converting states in basis encoding to probability vectors",
   "metadata": {
    "tags": [],
    "cell_id": "00009-0436d11f-b4da-45f6-8c3d-a0ad50578e89",
    "deepnote_cell_type": "markdown"
   }
  },
  {
   "cell_type": "code",
   "metadata": {
    "tags": [],
    "cell_id": "00004-9a909c76-99a3-4a34-833f-5e890ce5b063",
    "deepnote_to_be_reexecuted": false,
    "source_hash": "e92c54e9",
    "execution_start": 1631992328809,
    "execution_millis": 41,
    "deepnote_cell_type": "code"
   },
   "source": "def get_vector_representation(basis_state):\n    \"\"\"\n    A function that takes a basis state and returns it's single-qubit vector representation.\n\n    Args:\n        basis_state (int): Basis state to convert to vector. Either 0 or 1.\n\n    Returns:\n        np.array: Vector representation of a single-qubit basis state.\n    \"\"\"\n    assert basis_state == 0 or basis_state == 1, f\"Basis state has to be either 0 or 1. Instead got {basis_state}.\"\n\n    if basis_state == 0:\n        return np.array([1, 0])\n    if basis_state == 1:\n        return np.array([0, 1])\n\n\ndef basis_state_to_probability_vector(basis_state, nr_qubits):\n    \"\"\"\n    A function that takes a quantum state in basis encoding and transforms it to a probability vector. Since it only accepts states in basis\n    encoding (which includes only 0s and 1s), the probabilities equal the probability amplitudes, so no other conversion is needed to yield\n    the probability vector.\n\n    Args:\n        input_state (np.array[int]): Input basis state in big endian encoding, consisting only of 0s and 1s. \n        nr_qubits (int): Number of qubits.\n\n    Returns:\n        np.array: Probability vector representing the chance of measuring each basis state. The binary form of the index of each element\n        corresponds to the basis state, while the element itself corresponds to the probability of measuring that state.\n        For example:\n            In a 2 qubit system, getting an output of [0, 1, 0, 0] means that there is 100% chance of measuring |01> (binary form of decimal 1),\n            and 0% chance of measuring anything else. Since PennyLane uses big endian encoding, |01> means measuring 0 on the first qubit\n            and 1 on the second qubit.\n    \"\"\"\n\n    assert_basis_state(basis_state, nr_qubits)\n\n    # Assign state vector of first qubit to probability vector\n    probability_vector = get_vector_representation(basis_state[0])\n\n    # Loop through the rest of the qubits and combine states using Kronecker product (numpy implementation of tensor product)\n    for i in range(1, len(basis_state)):\n        probability_vector = np.kron(probability_vector, get_vector_representation(basis_state[i]))\n        \n    return probability_vector",
   "execution_count": 6,
   "outputs": []
  },
  {
   "cell_type": "markdown",
   "source": "#### Define parameterized ansatz that can be trained to prepare the target states",
   "metadata": {
    "tags": [],
    "cell_id": "00006-44d4ba20-9ffa-4658-8b7e-4f18c6df44c8",
    "deepnote_cell_type": "markdown"
   }
  },
  {
   "cell_type": "code",
   "metadata": {
    "tags": [],
    "deepnote_to_be_reexecuted": false,
    "source_hash": "f061b794",
    "execution_start": 1631992328850,
    "execution_millis": 100,
    "cell_id": "00004-b1782a1a-b2c5-4131-adc8-c406b6d18ca0",
    "deepnote_cell_type": "code"
   },
   "source": "def layer(params, layer_index, nr_qubits, nr_layers):\n    \"\"\"\n    One layer of the ansatz for the circuit that transforms 4 randomly choosen states to the target states. Parameterized X and Y rotations\n    are added to each qubit, then the qubits are connected with CNOT gates in a chain pattern (each gate is controlled by the previous gate).\n\n    Args:\n        params (np.array): 3D array of trainable parameters. Dimensions should be (nr_qubits, nr_layers, 2)\n        layer_index (int): Index of the current layer.\n        nr_qubits (int): Number of qubits.\n        nr_layers (int): Total number of layers.\n    \"\"\"\n    assert_params(params, nr_qubits, nr_layers)\n\n    for i in range(nr_qubits):\n        qml.RX(params[layer_index, i, 0], wires=i)\n        qml.RY(params[layer_index, i, 1], wires=i)\n        qml.RZ(params[layer_index, i, 2], wires=i)\n\n\n    qml.broadcast(qml.CNOT, wires=range(nr_qubits), pattern=\"chain\")\n\n\n# Set up PennyLane quantum simulator\ndev = qml.device(\"default.qubit\", wires=nr_qubits)\n\n\n@qml.qnode(dev)\ndef ansatz(params, input_state, nr_qubits, nr_layers):\n    \"\"\"\n    Circuit ansatz that transforms 4 randomly choosen states to the target states. It applies the number of specified layers, then returns\n    the probability vector of the measurement.\n\n    Args:\n        params (np.array): 3D array of trainable parameters. Dimensions should be (nr_qubits, nr_layers, 2).\n        input_state (np.array[int]): Input basis state in big endian encoding, consisting only of 0s and 1s. \n            Length must be equal to number of qubits.\n        nr_qubits (int): Number of qubits.\n        nr_layers (int): Total number of layers.\n\n    Returns:\n        qml.probs: Probability vector representing the chance of measuring each basis state.\n\n    \"\"\"\n    assert_params(params, nr_qubits, nr_layers)\n    assert_basis_state(input_state, nr_qubits)\n\n    qml.templates.BasisStatePreparation(input_state, wires=range(nr_qubits))\n\n    for layer_index in range(nr_layers):\n        layer(params, layer_index, nr_qubits, nr_layers)\n\n    probability_vector = qml.probs(wires=range(nr_qubits))\n\n    return probability_vector",
   "execution_count": 7,
   "outputs": []
  },
  {
   "cell_type": "markdown",
   "source": "#### Create random initial parameters\nnp.array with shape `(nr_layers, nr_qubits, 3)`, each element between 0 and PI",
   "metadata": {
    "tags": [],
    "cell_id": "00008-2dfdf39c-d3e7-490e-9e43-f8597b2f28d1",
    "deepnote_cell_type": "markdown"
   }
  },
  {
   "cell_type": "code",
   "metadata": {
    "tags": [],
    "cell_id": "00009-8123c7c4-a311-4f17-8f9b-ba2bc4e92f85",
    "deepnote_to_be_reexecuted": false,
    "source_hash": "a5f9f29f",
    "execution_start": 1631992328955,
    "execution_millis": 10,
    "deepnote_cell_type": "code"
   },
   "source": "params = np.random.normal(0, np.pi, (nr_layers, nr_qubits, 3))",
   "execution_count": 8,
   "outputs": []
  },
  {
   "cell_type": "markdown",
   "source": "#### Pre-compute the 4 target states as probability vectors to speed up training",
   "metadata": {
    "tags": [],
    "cell_id": "00010-d56f8b34-da1a-4b52-ba44-93f9556f935b",
    "deepnote_cell_type": "markdown"
   }
  },
  {
   "cell_type": "code",
   "metadata": {
    "tags": [],
    "cell_id": "00011-1987d362-e413-4d22-81b7-28efa55c2b5a",
    "deepnote_to_be_reexecuted": false,
    "source_hash": "5e33169a",
    "execution_start": 1631992328971,
    "execution_millis": 17,
    "deepnote_cell_type": "code"
   },
   "source": "target_prob_vectors = [basis_state_to_probability_vector(target_state, nr_qubits) for target_state in target_states]",
   "execution_count": 9,
   "outputs": []
  },
  {
   "cell_type": "markdown",
   "source": "#### Define cost function",
   "metadata": {
    "tags": [],
    "cell_id": "00012-dcb4e3bb-e331-452c-b85b-e262f2d7154c",
    "deepnote_cell_type": "markdown"
   }
  },
  {
   "cell_type": "code",
   "metadata": {
    "tags": [],
    "cell_id": "00013-edeb09c0-9fc1-4fbe-9e45-369fd7bc363e",
    "deepnote_to_be_reexecuted": false,
    "source_hash": "4200037b",
    "execution_start": 1631992328996,
    "execution_millis": 12,
    "deepnote_cell_type": "code"
   },
   "source": "def cost_fn(params, nr_qubits, nr_layers):\n    \"\"\"\n    Process of calculating the loss: \n        1. Evaluate network with current params for each of the input states.\n        2. Calculate the difference between the resulting probability vectors and the corresponding pre-computed target probability vectors.\n        3. Calculate the absolute value of the resulting difference vector, so the losses with different signs don't cancel each other out.\n        4. Sum the elements of the vector to yield a single scalar output.\n\n    Args:\n        params (np.array): 3D array of trainable parameters.\n        nr_qubits (int): Number of qubits.\n        nr_layers (int): Total number of layers.\n\n    Returns:\n        float: Cost as a scalar.\n\n    \"\"\"\n    assert_params(params, nr_qubits, nr_layers)\n\n    cost = 0\n    for i, input_state in enumerate(input_states):\n        result_prob_vector = ansatz(params, input_state, nr_qubits, nr_layers)\n        cost += abs(result_prob_vector - target_prob_vectors[i]).sum()\n    return cost",
   "execution_count": 10,
   "outputs": []
  },
  {
   "cell_type": "markdown",
   "source": "#### Train the network",
   "metadata": {
    "tags": [],
    "cell_id": "00010-237c5f7a-c917-498b-a092-2be2868b8ab2",
    "deepnote_cell_type": "markdown"
   }
  },
  {
   "cell_type": "code",
   "metadata": {
    "tags": [],
    "deepnote_to_be_reexecuted": false,
    "source_hash": "9915900f",
    "execution_start": 1631992329014,
    "execution_millis": 422884,
    "cell_id": "00006-036fec0a-b591-4dcb-a9fa-69b533c8a183",
    "deepnote_cell_type": "code"
   },
   "source": "# Define optimizer\nopt = qml.GradientDescentOptimizer(stepsize=learning_rate)\n\n# Create a list to store cost values along the training (so later can be visualized)\ncosts = []\n\n# Start the training loop\nfor i in range(training_steps):\n    # Update the circuit parameters and return the cost\n    params, cost = opt.step_and_cost(cost_fn, params, nr_qubits=nr_qubits, nr_layers=nr_layers)\n\n    # Register current iteration's cost value\n    costs.append(cost)\n\n    # Print training progress every 10 iteration\n    if (i + 1) % 10 == 0:\n        print(\"Cost after step {:5d}: {: .7f}\".format(i + 1, cost))\n",
   "execution_count": 11,
   "outputs": [
    {
     "name": "stdout",
     "text": "Cost after step    10:  2.2853601\nCost after step    20:  0.4784647\nCost after step    30:  0.0804575\nCost after step    40:  0.0170597\nCost after step    50:  0.0044824\nCost after step    60:  0.0013172\nCost after step    70:  0.0004098\nCost after step    80:  0.0001316\nCost after step    90:  0.0000431\nCost after step   100:  0.0000143\nCost after step   110:  0.0000048\nCost after step   120:  0.0000016\nCost after step   130:  0.0000006\nCost after step   140:  0.0000002\nCost after step   150:  0.0000001\nCost after step   160:  0.0000000\nCost after step   170:  0.0000000\nCost after step   180:  0.0000000\nCost after step   190:  0.0000000\nCost after step   200:  0.0000000\n",
     "output_type": "stream"
    }
   ]
  },
  {
   "cell_type": "markdown",
   "source": "#### Plot loss during training",
   "metadata": {
    "tags": [],
    "cell_id": "00021-82413530-cf36-4c25-8740-420f0e80c215",
    "deepnote_cell_type": "markdown"
   }
  },
  {
   "cell_type": "code",
   "metadata": {
    "tags": [],
    "deepnote_to_be_reexecuted": false,
    "source_hash": "50924996",
    "execution_start": 1631992751900,
    "execution_millis": 408,
    "cell_id": "00008-8bf3ecef-7ec1-43b0-b12c-4fb44f040097",
    "deepnote_cell_type": "code"
   },
   "source": "plt.plot(costs)",
   "execution_count": 12,
   "outputs": [
    {
     "output_type": "execute_result",
     "execution_count": 12,
     "data": {
      "text/plain": "[<matplotlib.lines.Line2D at 0x7fb522e54590>]"
     },
     "metadata": {}
    },
    {
     "data": {
      "text/plain": "<Figure size 432x288 with 1 Axes>",
      "image/png": "[encoded data removed]"
     },
     "metadata": {
      "needs_background": "light",
      "image/png": {
       "width": 362,
       "height": 252
      }
     },
     "output_type": "display_data"
    }
   ]
  },
  {
   "cell_type": "markdown",
   "source": "#### Some learinings during training\n1. Increasing layer depth dramatically reduces the length of training required. For a simulator that's fine, but on a real device this might get problematic. Could be interesting to explore options to train faster with less layers. Maybe use a different optimizer (e.g. Quantum Natural Gradients), or use more qubits as auxiliary qubits.\n\n    Loss after 100 iterations with learning rate of 0.05 and with different depths:\n\n    Layers | Loss\n      ---- | ----:\n    4      | 2.2118232\n    8      | 0.2961199\n    16     | 0.0351823\n\n2. As the networks gets deeper, lower learning rates are needed, otherwise training becomes unstable. For example, In the previous point, when trying a layer count of 32, after 20 iterations the loss jumped back to almost the initial value. After reducing learning rate to half, the training stabilized.\n",
   "metadata": {
    "tags": [],
    "cell_id": "00025-3114bb3a-d111-4723-ad29-21d96cdffed4",
    "deepnote_cell_type": "markdown"
   }
  },
  {
   "cell_type": "markdown",
   "source": "#### Define helper function to visualize probabilities",
   "metadata": {
    "tags": [],
    "cell_id": "00024-a7e252b6-735b-421c-875f-d5c00186d3d8",
    "deepnote_cell_type": "markdown"
   }
  },
  {
   "cell_type": "code",
   "metadata": {
    "tags": [],
    "cell_id": "00024-18f77762-708d-4330-956c-92f472497740",
    "deepnote_to_be_reexecuted": false,
    "source_hash": "2d2703c8",
    "execution_start": 1631993725021,
    "execution_millis": 9,
    "deepnote_cell_type": "code"
   },
   "source": "def plot_probs(input_state):\n    probs = ansatz(params, input_state, nr_qubits, nr_layers).numpy()\n    plt.xticks(rotation=90)\n    plt.bar([f\"{dec:b}\".rjust(int(math.log(len(probs), 2)), \"0\") for dec in range(len(probs))], probs)\n\ndef plot_probs_for_4_states(states):\n    fig = plt.figure(figsize=(16, 4))\n    fig.suptitle(\"Measurement probabilities\", y=1.08, size=20)\n    for i, input_state in enumerate(states):\n        ax = fig.add_subplot(1,4,i+1)\n        plot_probs(input_state)\n        state_as_str = \"\".join([str(nr) for nr in states[i].numpy()])\n        ax.set_title(f\"For input state |{state_as_str}>\")",
   "execution_count": 41,
   "outputs": []
  },
  {
   "cell_type": "markdown",
   "source": "#### Plot measurement probabilities for each of the 4 input states",
   "metadata": {
    "tags": [],
    "cell_id": "00026-713cf616-762f-4a95-bd3f-d7e1886b7d29",
    "deepnote_cell_type": "markdown"
   }
  },
  {
   "cell_type": "code",
   "source": "plot_probs_for_4_states(input_states)",
   "metadata": {
    "tags": [],
    "cell_id": "00027-9abdc53d-cf97-4515-8202-a7822a3de255",
    "deepnote_to_be_reexecuted": false,
    "source_hash": "32304307",
    "execution_start": 1631993729136,
    "execution_millis": 2195,
    "deepnote_cell_type": "code"
   },
   "outputs": [
    {
     "data": {
      "text/plain": "<Figure size 1152x288 with 4 Axes>",
      "image/png": "[encoded data removed]"
     },
     "metadata": {
      "needs_background": "light",
      "image/png": {
       "width": 930,
       "height": 321
      }
     },
     "output_type": "display_data"
    }
   ],
   "execution_count": 42
  },
  {
   "cell_type": "markdown",
   "source": "#### Print values of the graph above",
   "metadata": {
    "tags": [],
    "cell_id": "00028-791d2ca9-2ea6-47d4-888b-2a8d10bf9728",
    "deepnote_cell_type": "markdown"
   }
  },
  {
   "cell_type": "code",
   "metadata": {
    "tags": [],
    "deepnote_to_be_reexecuted": false,
    "source_hash": "23981b50",
    "execution_start": 1631993866144,
    "execution_millis": 1011,
    "cell_id": "00010-1b970058-4127-4466-ac0f-0eef541a7e1b",
    "deepnote_cell_type": "code"
   },
   "source": "for i in range(4):\n    print(f\"Target state {i}: \", basis_state_to_probability_vector(target_states[i], nr_qubits).numpy())\n    print(f\"Output state {i}: \", ansatz(params, input_states[i], nr_qubits, nr_layers).numpy())\n    print(\"==================================================================\")",
   "execution_count": 44,
   "outputs": [
    {
     "name": "stdout",
     "text": "Target state 0:  [0 0 0 1 0 0 0 0 0 0 0 0 0 0 0 0]\nOutput state 0:  [2.58584859e-13 2.68691216e-12 7.31474852e-13 1.00000000e+00\n 3.72227998e-12 1.42681185e-13 4.36898344e-12 1.84098389e-13\n 4.42140542e-12 1.95969268e-12 6.24475417e-14 3.65848476e-12\n 4.68022150e-13 1.05630794e-11 3.44029210e-12 1.04370250e-11]\n==================================================================\nTarget state 1:  [0 0 0 0 0 1 0 0 0 0 0 0 0 0 0 0]\nOutput state 1:  [1.23923708e-12 6.66249546e-13 3.45354452e-12 1.42686685e-13\n 1.10510841e-12 1.00000000e+00 8.47429558e-13 4.32652065e-12\n 3.99632251e-12 4.60606881e-12 3.91128946e-13 2.29184544e-12\n 1.21733565e-12 7.77710047e-13 8.88813359e-13 3.11490294e-12]\n==================================================================\nTarget state 2:  [0 0 0 0 0 0 0 0 0 0 1 0 0 0 0 0]\nOutput state 2:  [1.25657458e-12 4.03027705e-12 4.36299908e-12 6.24519450e-14\n 1.57957719e-13 3.91136225e-13 1.93698587e-12 9.65024836e-13\n 1.94442860e-12 3.53328820e-12 1.00000000e+00 6.64575714e-13\n 2.15709958e-13 8.48731133e-12 1.39066511e-13 9.28473950e-13]\n==================================================================\nTarget state 3:  [0 0 0 0 0 0 0 0 0 0 0 0 1 0 0 0]\nOutput state 3:  [5.63911461e-12 6.55275978e-12 1.99595095e-12 4.68001913e-13\n 1.61640340e-14 1.21734417e-12 5.98138302e-12 6.49158774e-12\n 3.06965798e-12 4.04795162e-12 2.15709192e-13 2.16745844e-13\n 1.00000000e+00 5.11082688e-12 3.98710443e-12 4.46794247e-13]\n==================================================================\n",
     "output_type": "stream"
    }
   ]
  },
  {
   "cell_type": "markdown",
   "source": "#### What happens if we input different states to the network?",
   "metadata": {
    "tags": [],
    "cell_id": "00030-1b4edb50-20c6-431a-9bfd-f972a0159b3e",
    "deepnote_cell_type": "markdown"
   }
  },
  {
   "cell_type": "code",
   "metadata": {
    "tags": [],
    "cell_id": "00028-414c8f15-9ba0-4ab8-a085-1825803dfd2b",
    "deepnote_to_be_reexecuted": false,
    "source_hash": "f86f4ad",
    "execution_start": 1631993955372,
    "execution_millis": 2523,
    "deepnote_cell_type": "code"
   },
   "source": "random_states = np.array([[1,1,1,0], [1,1,0,1], [0,0,1,1], [1,1,1,1]])\nplot_probs_for_4_states(random_states)",
   "execution_count": 46,
   "outputs": [
    {
     "data": {
      "text/plain": "<Figure size 1152x288 with 4 Axes>",
      "image/png": "[encoded data removed]"
     },
     "metadata": {
      "needs_background": "light",
      "image/png": {
       "width": 942,
       "height": 321
      }
     },
     "output_type": "display_data"
    }
   ]
  },
  {
   "cell_type": "markdown",
   "source": "If states that were not used for training are input to the network, the resulting measurement probabilities are divided between many states more or less evenly, instead of producing a given target state. This makes sense, since all the parameterized gates were trained to produce a certain target given a specific input, and those rotations result in completely different outcomes if novel states are introduced.",
   "metadata": {
    "tags": [],
    "cell_id": "00032-06bc1196-75f9-4119-986e-4017176f3fbb",
    "deepnote_cell_type": "markdown"
   }
  },
  {
   "cell_type": "markdown",
   "source": "",
   "metadata": {
    "tags": [],
    "cell_id": "00026-70934a6c-b546-4515-9675-6a7565019e6b",
    "deepnote_cell_type": "markdown"
   }
  },
  {
   "cell_type": "markdown",
   "source": "<a style='text-decoration:none;line-height:16px;display:flex;color:#5B5B62;padding:10px;justify-content:end;' href='https://deepnote.com?utm_source=created-in-deepnote-cell&projectId=90d48d1c-1b3e-4c9b-9c50-fe452137d592' target=\"_blank\">\n<img alt='Created in deepnote.com' style='display:inline;max-height:16px;margin:0px;margin-right:7.5px;' src='data:image/svg+xml;base64,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' > </img>\nCreated in <span style='font-weight:600;margin-left:4px;'>Deepnote</span></a>",
   "metadata": {
    "tags": [],
    "created_in_deepnote_cell": true,
    "deepnote_cell_type": "markdown"
   }
  }
 ],
 "nbformat": 4,
 "nbformat_minor": 2,
 "metadata": {
  "orig_nbformat": 2,
  "deepnote": {
   "is_reactive": false
  },
  "deepnote_notebook_id": "3f1b872c-7175-46a1-9eba-949ed3dbbd99",
  "deepnote_execution_queue": []
 }
}